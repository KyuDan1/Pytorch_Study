{
 "cells": [
  {
   "cell_type": "code",
   "execution_count": 3,
   "metadata": {},
   "outputs": [],
   "source": [
    "import matplotlib.pyplot as plt\n",
    "import numpy as np\n",
    "import torch\n",
    "\n",
    "from torchvision.datasets.mnist import MNIST\n",
    "from torchvision.transforms import ToTensor"
   ]
  },
  {
   "cell_type": "code",
   "execution_count": 4,
   "metadata": {},
   "outputs": [],
   "source": [
    "def gaussian_noise(x, scale = 0.8):\n",
    "    #가우스 노이즈를 더해줌\n",
    "    gaussian_data_x = x+np.random.normal(loc=0, scale=scale, size = x.shape)\n",
    "\n",
    "    #이미지의 픽셀값을 0과 1 사이로 정규화\n",
    "    gaussian_data_x = np.clip(\n",
    "        gaussian_data_x, 0,1\n",
    "    )\n",
    "\n",
    "    gaussian_data_x = torch.tensor(gaussian_data_x)\n",
    "    gaussian_data_x = gaussian_data_x.type(torch.FloatTensor)\n",
    "    return gaussian_data_x"
   ]
  },
  {
   "cell_type": "code",
   "execution_count": 5,
   "metadata": {},
   "outputs": [
    {
     "name": "stdout",
     "output_type": "stream",
     "text": [
      "Downloading http://yann.lecun.com/exdb/mnist/train-images-idx3-ubyte.gz\n",
      "Downloading http://yann.lecun.com/exdb/mnist/train-images-idx3-ubyte.gz to ./MNIST\\raw\\train-images-idx3-ubyte.gz\n"
     ]
    },
    {
     "name": "stderr",
     "output_type": "stream",
     "text": [
      "100%|██████████| 9912422/9912422 [00:00<00:00, 23687771.87it/s]\n"
     ]
    },
    {
     "name": "stdout",
     "output_type": "stream",
     "text": [
      "Extracting ./MNIST\\raw\\train-images-idx3-ubyte.gz to ./MNIST\\raw\n",
      "\n",
      "Downloading http://yann.lecun.com/exdb/mnist/train-labels-idx1-ubyte.gz\n",
      "Downloading http://yann.lecun.com/exdb/mnist/train-labels-idx1-ubyte.gz to ./MNIST\\raw\\train-labels-idx1-ubyte.gz\n"
     ]
    },
    {
     "name": "stderr",
     "output_type": "stream",
     "text": [
      "100%|██████████| 28881/28881 [00:00<00:00, 14438104.15it/s]"
     ]
    },
    {
     "name": "stdout",
     "output_type": "stream",
     "text": [
      "Extracting ./MNIST\\raw\\train-labels-idx1-ubyte.gz to ./MNIST\\raw\n",
      "\n",
      "Downloading http://yann.lecun.com/exdb/mnist/t10k-images-idx3-ubyte.gz\n",
      "Downloading http://yann.lecun.com/exdb/mnist/t10k-images-idx3-ubyte.gz to ./MNIST\\raw\\t10k-images-idx3-ubyte.gz\n"
     ]
    },
    {
     "name": "stderr",
     "output_type": "stream",
     "text": [
      "\n",
      "100%|██████████| 1648877/1648877 [00:00<00:00, 8760425.20it/s]\n"
     ]
    },
    {
     "name": "stdout",
     "output_type": "stream",
     "text": [
      "Extracting ./MNIST\\raw\\t10k-images-idx3-ubyte.gz to ./MNIST\\raw\n",
      "\n",
      "Downloading http://yann.lecun.com/exdb/mnist/t10k-labels-idx1-ubyte.gz\n",
      "Downloading http://yann.lecun.com/exdb/mnist/t10k-labels-idx1-ubyte.gz to ./MNIST\\raw\\t10k-labels-idx1-ubyte.gz\n"
     ]
    },
    {
     "name": "stderr",
     "output_type": "stream",
     "text": [
      "100%|██████████| 4542/4542 [00:00<00:00, 13715283.49it/s]"
     ]
    },
    {
     "name": "stdout",
     "output_type": "stream",
     "text": [
      "Extracting ./MNIST\\raw\\t10k-labels-idx1-ubyte.gz to ./MNIST\\raw\n",
      "\n"
     ]
    },
    {
     "name": "stderr",
     "output_type": "stream",
     "text": [
      "\n"
     ]
    }
   ],
   "source": [
    "training_data = MNIST(\n",
    "    root=\"./\",\n",
    "    train = True,\n",
    "    download = True,\n",
    "    transform=ToTensor()\n",
    ")\n",
    "test_data = MNIST(\n",
    "    root=\"./\",\n",
    "    train = False,\n",
    "    download = True,\n",
    "    transform=ToTensor()\n",
    ")"
   ]
  },
  {
   "cell_type": "code",
   "execution_count": 7,
   "metadata": {},
   "outputs": [],
   "source": [
    "from torch.utils.data.dataset import Dataset\n",
    "\n",
    "class Denoising(Dataset):\n",
    "    def __init__(self):\n",
    "        #원본 데이터\n",
    "        self.mnist = MNIST(\n",
    "            root = \"./\",\n",
    "            train = True,\n",
    "            download = True,\n",
    "            transform = ToTensor()\n",
    "        )\n",
    "        #노이즈가 낀 데이터를 담는 리스트\n",
    "        self.data = []\n",
    "\n",
    "        for i in range(len(self.mnist)):\n",
    "            noisy_input = gaussian_noise(self.mnist.data[i])\n",
    "            input_tensor = torch.tensor(noisy_input)\n",
    "            self.data.append(torch.unsqueeze(input_tensor, dim=0))\n",
    "    \n",
    "    def __len__(self):\n",
    "        return len(self.data)\n",
    "    \n",
    "    def __getitem__(self, i):\n",
    "        data = self.data[i]\n",
    "        label = self.mnist.data[i]/255\n",
    "        return data, label"
   ]
  },
  {
   "cell_type": "code",
   "execution_count": 13,
   "metadata": {},
   "outputs": [],
   "source": [
    "import torch.nn as nn\n",
    "\n",
    "class BasicBlock(nn.Module):\n",
    "    def __init__(self, in_channels, out_channels, hidden_dim):\n",
    "        super(BasicBlock, self).__init__()\n",
    "\n",
    "        self.conv1 = nn.Conv2d(\n",
    "            in_channels,\n",
    "            hidden_dim,\n",
    "            kernel_size=3,\n",
    "            padding=1\n",
    "        )\n",
    "        self.conv2 = nn.Conv2d(\n",
    "            hidden_dim,\n",
    "            out_channels,\n",
    "            kernel_size=3,\n",
    "            padding=1\n",
    "        )\n",
    "        self.relu = nn.ReLU()\n",
    "    \n",
    "    def forward(self,x):\n",
    "        x = self.conv1(x)\n",
    "        x = self.relu(x)\n",
    "        x = self.conv2(x)\n",
    "        x = self.relu(x)\n",
    "\n",
    "        return x"
   ]
  },
  {
   "cell_type": "code",
   "execution_count": 14,
   "metadata": {},
   "outputs": [],
   "source": [
    "class Encoder(nn.Module):\n",
    "    def __init__(self):\n",
    "        super(Encoder, self).__init__()\n",
    "\n",
    "        self.conv1 = BasicBlock(in_channels =1, out_channels=16, hidden_dim=16)\n",
    "        self.conv2 = BasicBlock(in_channels=16, out_channels=8, hidden_dim=8)\n",
    "        self.pool = nn.AvgPool2d(kernel_size=2, stride=2)\n",
    "\n",
    "    def forward(self, x):\n",
    "        x = self.conv1(x)\n",
    "        x = self.pool(x)\n",
    "        x = self.conv2(x)\n",
    "        x = self.pool(x)\n",
    "\n",
    "        return x"
   ]
  },
  {
   "cell_type": "code",
   "execution_count": 18,
   "metadata": {},
   "outputs": [],
   "source": [
    "class Decoder(nn.Module):\n",
    "    def __init__(self):\n",
    "        super(Decoder, self).__init__()\n",
    "\n",
    "        self.conv1 = BasicBlock(in_channels =8, out_channels=8, hidden_dim=8)\n",
    "        self.conv2 = BasicBlock(in_channels=8, out_channels=16, hidden_dim=16)\n",
    "\n",
    "        #출력층은 기본 블록이 아닌 합성곱층\n",
    "        self.conv3 = nn.Conv2d(in_channels=16, out_channels=1, kernel_size=3, padding=1)\n",
    "\n",
    "        #업샘플링\n",
    "        self.upsample1 = nn.ConvTranspose2d(8,8,kernel_size=2, stride=2)\n",
    "        self.upsample2 = nn.ConvTranspose2d(16,16,kernel_size=2, stride=2)\n",
    "        \n",
    "    def forward(self, x):\n",
    "        x = self.conv1(x)\n",
    "        x = self.upsample1(x)\n",
    "        x = self.conv2(x)\n",
    "        x = self.upsample2(x)\n",
    "        x = self.conv3(x)\n",
    "\n",
    "        return x"
   ]
  },
  {
   "cell_type": "code",
   "execution_count": 19,
   "metadata": {},
   "outputs": [],
   "source": [
    "class CAE(nn.Module):\n",
    "    def __init__(self):\n",
    "        super(CAE, self).__init__()\n",
    "\n",
    "        self.enc = Encoder()\n",
    "        self.dec = Decoder()\n",
    "\n",
    "    def forward(self, x):\n",
    "        x = self.enc(x)\n",
    "        x = self.dec(x)\n",
    "        x = torch.squeeze(x)\n",
    "\n",
    "        return(x)\n"
   ]
  },
  {
   "cell_type": "code",
   "execution_count": 20,
   "metadata": {},
   "outputs": [
    {
     "name": "stderr",
     "output_type": "stream",
     "text": [
      "C:\\Users\\wjdrb\\AppData\\Local\\Temp\\ipykernel_150912\\1954837502.py:10: UserWarning: To copy construct from a tensor, it is recommended to use sourceTensor.clone().detach() or sourceTensor.clone().detach().requires_grad_(True), rather than torch.tensor(sourceTensor).\n",
      "  gaussian_data_x = torch.tensor(gaussian_data_x)\n",
      "C:\\Users\\wjdrb\\AppData\\Local\\Temp\\ipykernel_150912\\3228615721.py:17: UserWarning: To copy construct from a tensor, it is recommended to use sourceTensor.clone().detach() or sourceTensor.clone().detach().requires_grad_(True), rather than torch.tensor(sourceTensor).\n",
      "  input_tensor = torch.tensor(noisy_input)\n",
      "epoch1 loss:0.012931947596371174: 100%|██████████| 1875/1875 [00:05<00:00, 321.03it/s]\n",
      "epoch2 loss:0.01099225040525198: 100%|██████████| 1875/1875 [00:05<00:00, 351.62it/s]  \n",
      "epoch3 loss:0.010594540275633335: 100%|██████████| 1875/1875 [00:05<00:00, 335.16it/s] \n",
      "epoch4 loss:0.010639077052474022: 100%|██████████| 1875/1875 [00:06<00:00, 311.57it/s] \n",
      "epoch5 loss:0.010282040573656559: 100%|██████████| 1875/1875 [00:05<00:00, 316.82it/s] \n",
      "epoch6 loss:0.010548898950219154: 100%|██████████| 1875/1875 [00:05<00:00, 328.60it/s] \n",
      "epoch7 loss:0.010298090055584908: 100%|██████████| 1875/1875 [00:05<00:00, 351.89it/s] \n",
      "epoch8 loss:0.009715145453810692: 100%|██████████| 1875/1875 [00:05<00:00, 364.91it/s] \n",
      "epoch9 loss:0.009312446229159832: 100%|██████████| 1875/1875 [00:05<00:00, 325.12it/s] \n",
      "epoch10 loss:0.00865920726209879: 100%|██████████| 1875/1875 [00:05<00:00, 321.49it/s]  \n",
      "epoch11 loss:0.008525718934834003: 100%|██████████| 1875/1875 [00:05<00:00, 330.59it/s] \n",
      "epoch12 loss:0.008442902006208897: 100%|██████████| 1875/1875 [00:05<00:00, 331.05it/s] \n",
      "epoch13 loss:0.007997809909284115: 100%|██████████| 1875/1875 [00:05<00:00, 328.76it/s] \n",
      "epoch14 loss:0.007772192358970642: 100%|██████████| 1875/1875 [00:05<00:00, 332.08it/s] \n",
      "epoch15 loss:0.0077332924120128155: 100%|██████████| 1875/1875 [00:05<00:00, 321.14it/s]\n",
      "epoch16 loss:0.007797537837177515: 100%|██████████| 1875/1875 [00:05<00:00, 324.22it/s] \n",
      "epoch17 loss:0.007592297159135342: 100%|██████████| 1875/1875 [00:05<00:00, 328.67it/s] \n",
      "epoch18 loss:0.007456773426383734: 100%|██████████| 1875/1875 [00:05<00:00, 336.27it/s] \n",
      "epoch19 loss:0.007519084494560957: 100%|██████████| 1875/1875 [00:05<00:00, 342.53it/s] \n",
      "epoch20 loss:0.007554879877716303: 100%|██████████| 1875/1875 [00:05<00:00, 324.63it/s] \n"
     ]
    }
   ],
   "source": [
    "import tqdm\n",
    "from torch.utils.data.dataloader import DataLoader\n",
    "from torch.optim.adam import Adam\n",
    "\n",
    "device = \"cuda\"\n",
    "\n",
    "trainset = Denoising() #학습에 이용할 데이터셋\n",
    "train_loader = DataLoader(trainset, batch_size=32)\n",
    "\n",
    "model = CAE().to(device)\n",
    "\n",
    "lr = 0.001\n",
    "optim = Adam(params=model.parameters(), lr=lr)\n",
    "\n",
    "from torch.utils.tensorboard import SummaryWriter\n",
    "writer = SummaryWriter()\n",
    "for epoch in range(20):\n",
    "    iterator = tqdm.tqdm(train_loader)\n",
    "\n",
    "    for data, label in iterator:\n",
    "        optim.zero_grad()\n",
    "        pred = model(data.to(device))\n",
    "\n",
    "        loss = nn.MSELoss()(torch.squeeze(pred), label.to(device))\n",
    "        #TensorBoard에 정보 기록\n",
    "        writer.add_scalar(\"Loss/train\", loss, epoch)\n",
    "\n",
    "        loss.backward()\n",
    "        optim.step()\n",
    "        iterator.set_description(f\"epoch{epoch+1} loss:{loss.item()}\")\n",
    "        \n",
    "torch.save(model.state_dict(), \"./CAE.pth\")\n",
    "writer.flush()\n"
   ]
  },
  {
   "cell_type": "code",
   "execution_count": 21,
   "metadata": {},
   "outputs": [
    {
     "name": "stderr",
     "output_type": "stream",
     "text": [
      "C:\\Users\\wjdrb\\AppData\\Local\\Temp\\ipykernel_150912\\1954837502.py:10: UserWarning: To copy construct from a tensor, it is recommended to use sourceTensor.clone().detach() or sourceTensor.clone().detach().requires_grad_(True), rather than torch.tensor(sourceTensor).\n",
      "  gaussian_data_x = torch.tensor(gaussian_data_x)\n"
     ]
    },
    {
     "data": {
      "image/png": "[encoded data removed]",
      "text/plain": [
       "<Figure size 640x480 with 3 Axes>"
      ]
     },
     "metadata": {},
     "output_type": "display_data"
    }
   ],
   "source": [
    "model.cpu()\n",
    "\n",
    "with torch.no_grad():\n",
    "    model.load_state_dict(torch.load(\"./CAE.pth\", map_location=device))\n",
    "\n",
    "    img = test_data.data[0]\n",
    "    gaussian = gaussian_noise(img)\n",
    "\n",
    "    input = torch.unsqueeze(gaussian, dim=0)\n",
    "    input.type(torch.FloatTensor).to(device)\n",
    "    input = torch.unsqueeze(input, dim=0)\n",
    "\n",
    "    plt.subplot(1,3,1)\n",
    "    plt.imshow(torch.squeeze(gaussian))\n",
    "    plt.subplot(1,3,2)\n",
    "    plt.imshow(torch.squeeze(model(input)))\n",
    "    plt.subplot(1,3,3)\n",
    "    plt.imshow(torch.squeeze(img))\n",
    "    plt.show()"
   ]
  },
  {
   "cell_type": "code",
   "execution_count": null,
   "metadata": {},
   "outputs": [],
   "source": []
  }
 ],
 "metadata": {
  "kernelspec": {
   "display_name": "venv",
   "language": "python",
   "name": "python3"
  },
  "language_info": {
   "codemirror_mode": {
    "name": "ipython",
    "version": 3
   },
   "file_extension": ".py",
   "mimetype": "text/x-python",
   "name": "python",
   "nbconvert_exporter": "python",
   "pygments_lexer": "ipython3",
   "version": "3.12.2"
  }
 },
 "nbformat": 4,
 "nbformat_minor": 2
}
